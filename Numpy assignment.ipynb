{
 "cells": [
  {
   "cell_type": "markdown",
   "metadata": {},
   "source": [
    "**1. Write a function so that the columns of the output matrix are powers of the input\n",
    "vector.**\n",
    "\n",
    "The order of the powers is determined by the increasing boolean argument. Specifically, when\n",
    "increasing is False, the i-th output column is the input vector raised element-wise to the power\n",
    "of N - i - 1.\n",
    "\n",
    "HINT: Such a matrix with a geometric progression in each row is named for Alexandre-\n",
    "Theophile Vandermonde."
   ]
  },
  {
   "cell_type": "code",
   "execution_count": 7,
   "metadata": {},
   "outputs": [
    {
     "name": "stdout",
     "output_type": "stream",
     "text": [
      "when  INCREASING \n",
      "[[   1    5   25  125  625]\n",
      " [   1    6   36  216 1296]\n",
      " [   1    7   49  343 2401]\n",
      " [   1    8   64  512 4096]\n",
      " [   1    9   81  729 6561]]\n",
      "when DECREASING \n",
      "[[ 625  125   25    5    1]\n",
      " [1296  216   36    6    1]\n",
      " [2401  343   49    7    1]\n",
      " [4096  512   64    8    1]\n",
      " [6561  729   81    9    1]]\n"
     ]
    }
   ],
   "source": [
    "import numpy as np\n",
    "\n",
    "def Vandermonde(x, N, increasing = False):\n",
    "    if increasing:\n",
    "        print(np.array([ j** i for j in x for i in range(N)]).reshape(len(x), N))\n",
    "    else:\n",
    "        print(np.array([ j** (N-1-i) for j in x for i in range(N)]).reshape(len(x), N))\n",
    "        \n",
    "iterables = [5,6,7,8,9]\n",
    "\n",
    "N = 5\n",
    "\n",
    "print('when  INCREASING ')\n",
    "\n",
    "Vandermonde(np.array(iterables),N, increasing= True)\n",
    "\n",
    "\n",
    "print('when DECREASING ')\n",
    "\n",
    "Vandermonde(np.array(iterables),N, increasing = False)\n",
    "\n"
   ]
  },
  {
   "cell_type": "markdown",
   "metadata": {},
   "source": [
    "**2. Question: Write a function to find moving average in an array over a window:\n",
    "Test it over [3, 5, 7, 2, 8, 10, 11, 65, 72, 81, 99, 100, 150] and window of 3.**"
   ]
  },
  {
   "cell_type": "code",
   "execution_count": null,
   "metadata": {},
   "outputs": [],
   "source": [
    "#dont run the below cell, its an hint"
   ]
  },
  {
   "cell_type": "markdown",
   "metadata": {},
   "source": [
    "**Problem Statement 2:**\n",
    "    \n",
    "Given a sequence of n values x1, x2, ..., xn and a window size k>0, the k-th moving average of\n",
    "the given sequence is defined as follows:\n",
    "\n",
    "The moving average sequence has n-k+1 elements as shown below.\n",
    "\n",
    "The moving averages with k=4 of a ten-value sequence (n=10) is shown below\n",
    "i 1 2 3 4 5 6 7 8 9 10\n",
    "===== == == == == == == == == == ==\n",
    "Input 10 20 30 40 50 60 70 80 90 100\n",
    "y1 25 = (10+20+30+40)/4\n",
    "y2 35 = (20+30+40+50)/4\n",
    "y3 45 = (30+40+50+60)/4\n",
    "y4 55 = (40+50+60+70)/4\n",
    "y5 65 = (50+60+70+80)/4\n",
    "y6 75 = (60+70+80+90)/4\n",
    "y7 85 = (70+80+90+100)/4\n",
    "Thus, the moving average sequence has n-k+1=10-4+1=7 values."
   ]
  },
  {
   "cell_type": "code",
   "execution_count": 26,
   "metadata": {},
   "outputs": [],
   "source": [
    "def moving_avg(x,k):\n",
    "    m=1\n",
    "    ma_output=np.convolve(x, np.ones(k),'valid')/k\n",
    "    for i in ma_output:\n",
    "        print (\"y{0}={1:.2f}\".format(m,i))\n",
    "        m=m+1\n",
    "    "
   ]
  },
  {
   "cell_type": "code",
   "execution_count": 27,
   "metadata": {},
   "outputs": [
    {
     "name": "stdout",
     "output_type": "stream",
     "text": [
      "y1=3.33\n",
      "y2=5.33\n",
      "y3=6.67\n",
      "y4=8.00\n",
      "y5=7.67\n",
      "y6=6.00\n",
      "y7=3.33\n",
      "y8=2.67\n",
      "y9=4.33\n",
      "y10=5.67\n",
      "y11=12.00\n",
      "y12=32.33\n"
     ]
    }
   ],
   "source": [
    "x=np.array([1,4,5,7,8,9,6,3,1,4,8,5,23,69])\n",
    "k=3\n",
    "moving_avg(x,k)"
   ]
  },
  {
   "cell_type": "code",
   "execution_count": null,
   "metadata": {},
   "outputs": [],
   "source": []
  },
  {
   "cell_type": "markdown",
   "metadata": {},
   "source": [
    "__this is how convolve works__\n",
    "\n",
    "[1,1,1,1]\n",
    "[5,3,8,10,2,1,5,1,0,2]\n",
    "= (1*5 + 1*3 + 1*8 + 1*10) / w = 6.5\n",
    "\n",
    "[1,1,1,1]\n",
    "[5,3,8,10,2,1,5,1,0,2]\n",
    "= (1*3 + 1*8 + 1*10 + 1*2) / w = 5.75"
   ]
  },
  {
   "cell_type": "code",
   "execution_count": null,
   "metadata": {},
   "outputs": [],
   "source": []
  }
 ],
 "metadata": {
  "kernelspec": {
   "display_name": "Python 3",
   "language": "python",
   "name": "python3"
  },
  "language_info": {
   "codemirror_mode": {
    "name": "ipython",
    "version": 3
   },
   "file_extension": ".py",
   "mimetype": "text/x-python",
   "name": "python",
   "nbconvert_exporter": "python",
   "pygments_lexer": "ipython3",
   "version": "3.8.5"
  }
 },
 "nbformat": 4,
 "nbformat_minor": 4
}
