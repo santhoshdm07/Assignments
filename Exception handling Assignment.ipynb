{
 "cells": [
  {
   "cell_type": "markdown",
   "metadata": {},
   "source": [
    "**1. Write a function to compute 5/0 and use try/except to catch the exceptions.**"
   ]
  },
  {
   "cell_type": "code",
   "execution_count": 4,
   "metadata": {},
   "outputs": [
    {
     "name": "stdout",
     "output_type": "stream",
     "text": [
      "you are dividing a number by zero its not allowed in python core, try with numpy\n",
      "fianlly block: how ever its getting printed\n"
     ]
    }
   ],
   "source": [
    "def division():\n",
    "    return 5/0\n",
    "\n",
    "try:\n",
    "    division()\n",
    "except ZeroDivisionError:\n",
    "    print('you are dividing a number by zero its not allowed in python core, try with numpy')\n",
    "except Exception as exception:\n",
    "          print ('a big mess!!!')\n",
    "finally:\n",
    "          print('fianlly block: how ever its getting printed')\n",
    "    "
   ]
  },
  {
   "cell_type": "markdown",
   "metadata": {},
   "source": [
    "**2. Implement a Python program to generate all sentences where subject is in\n",
    "[\"Americans\", \"Indians\"] and verb is in [\"Play\", \"watch\"] and the object is in\n",
    "[\"Baseball\",\"cricket\"].** \n",
    "\n",
    "Hint: Subject,Verb and Object should be declared in the program as shown below.\n",
    "\n",
    "\n",
    "- subjects=[\"Americans \",\"Indians\"]\n",
    "- verbs=[\"play\",\"watch\"]\n",
    "- objects=[\"Baseball\",\"Cricket\"]\n",
    "\n",
    "**Output should come as below:**\n",
    "- Americans play Baseball.\n",
    "- Americans play Cricket.\n",
    "- Americans watch Baseball.\n",
    "- Americans watch Cricket.\n",
    "- Indians play Baseball.\n",
    "- Indians play Cricket.\n",
    "- Indians watch Baseball.\n",
    "- Indians watch Cricket."
   ]
  },
  {
   "cell_type": "code",
   "execution_count": 10,
   "metadata": {},
   "outputs": [
    {
     "name": "stdout",
     "output_type": "stream",
     "text": [
      "Americans  play Baseball\n",
      "Americans  play Cricket\n",
      "Americans  watch Baseball\n",
      "Americans  watch Cricket\n",
      "Indians play Baseball\n",
      "Indians play Cricket\n",
      "Indians watch Baseball\n",
      "Indians watch Cricket\n"
     ]
    }
   ],
   "source": [
    "subjects=[\"Americans \",\"Indians\"]\n",
    "verbs=[\"play\",\"watch\"]\n",
    "objects=[\"Baseball\",\"Cricket\"]\n",
    "\n",
    "sentence=[ (i+' '+j+' '+k)for i in subjects for j in verbs for k in objects]\n",
    "\n",
    "for s in sentence:\n",
    "    print(s)"
   ]
  },
  {
   "cell_type": "code",
   "execution_count": null,
   "metadata": {},
   "outputs": [],
   "source": []
  }
 ],
 "metadata": {
  "kernelspec": {
   "display_name": "Python 3",
   "language": "python",
   "name": "python3"
  },
  "language_info": {
   "codemirror_mode": {
    "name": "ipython",
    "version": 3
   },
   "file_extension": ".py",
   "mimetype": "text/x-python",
   "name": "python",
   "nbconvert_exporter": "python",
   "pygments_lexer": "ipython3",
   "version": "3.8.5"
  }
 },
 "nbformat": 4,
 "nbformat_minor": 4
}
